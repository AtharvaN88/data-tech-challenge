{
 "cells": [
  {
   "cell_type": "code",
   "execution_count": 3,
   "id": "e94e4edc-63ac-4db4-a8b4-fa2b8985fe10",
   "metadata": {},
   "outputs": [],
   "source": [
    "import pandas as pd"
   ]
  },
  {
   "cell_type": "code",
   "execution_count": null,
   "id": "2fa46100-a333-4a97-86dd-edaccf8b3b69",
   "metadata": {},
   "outputs": [],
   "source": []
  },
  {
   "cell_type": "code",
   "execution_count": null,
   "id": "b894977f-b009-4068-bf0d-64d1dee4ae84",
   "metadata": {},
   "outputs": [],
   "source": []
  },
  {
   "cell_type": "code",
   "execution_count": 2,
   "id": "bcdc318c-9f51-4d50-bcc6-55a983cd584a",
   "metadata": {},
   "outputs": [],
   "source": [
    "data_path = r\"C:\\Users\\nilap_d3dyn7h\\OneDrive\\Documents\\airline.csv\""
   ]
  },
  {
   "cell_type": "code",
   "execution_count": 7,
   "id": "621ca0b5-e930-41c5-b71c-77ca793767cd",
   "metadata": {},
   "outputs": [
    {
     "data": {
      "text/html": [
       "<div>\n",
       "<style scoped>\n",
       "    .dataframe tbody tr th:only-of-type {\n",
       "        vertical-align: middle;\n",
       "    }\n",
       "\n",
       "    .dataframe tbody tr th {\n",
       "        vertical-align: top;\n",
       "    }\n",
       "\n",
       "    .dataframe thead th {\n",
       "        text-align: right;\n",
       "    }\n",
       "</style>\n",
       "<table border=\"1\" class=\"dataframe\">\n",
       "  <thead>\n",
       "    <tr style=\"text-align: right;\">\n",
       "      <th></th>\n",
       "      <th>Month</th>\n",
       "      <th>AustralianPort</th>\n",
       "      <th>ForeignPort</th>\n",
       "      <th>Country</th>\n",
       "      <th>Passengers_In</th>\n",
       "      <th>Freight_In_(tonnes)</th>\n",
       "      <th>Mail_In_(tonnes)</th>\n",
       "      <th>Passengers_Out</th>\n",
       "      <th>Freight_Out_(tonnes)</th>\n",
       "      <th>Mail_Out_(tonnes)</th>\n",
       "      <th>Passengers_Total</th>\n",
       "      <th>Freight_Total_(tonnes)</th>\n",
       "      <th>Mail_Total_(tonnes)</th>\n",
       "      <th>Year</th>\n",
       "      <th>Month_num</th>\n",
       "    </tr>\n",
       "  </thead>\n",
       "  <tbody>\n",
       "    <tr>\n",
       "      <th>0</th>\n",
       "      <td>Jan-85</td>\n",
       "      <td>Adelaide</td>\n",
       "      <td>Auckland</td>\n",
       "      <td>New Zealand</td>\n",
       "      <td>1513</td>\n",
       "      <td>42.167</td>\n",
       "      <td>0.311</td>\n",
       "      <td>985</td>\n",
       "      <td>18.704</td>\n",
       "      <td>0.924</td>\n",
       "      <td>2498</td>\n",
       "      <td>60.871</td>\n",
       "      <td>1.235</td>\n",
       "      <td>1985</td>\n",
       "      <td>1</td>\n",
       "    </tr>\n",
       "    <tr>\n",
       "      <th>1</th>\n",
       "      <td>Jan-85</td>\n",
       "      <td>Adelaide</td>\n",
       "      <td>Bahrain</td>\n",
       "      <td>Bahrain</td>\n",
       "      <td>12</td>\n",
       "      <td>0.000</td>\n",
       "      <td>0.000</td>\n",
       "      <td>5</td>\n",
       "      <td>0.033</td>\n",
       "      <td>0.000</td>\n",
       "      <td>17</td>\n",
       "      <td>0.033</td>\n",
       "      <td>0.000</td>\n",
       "      <td>1985</td>\n",
       "      <td>1</td>\n",
       "    </tr>\n",
       "    <tr>\n",
       "      <th>2</th>\n",
       "      <td>Jan-85</td>\n",
       "      <td>Adelaide</td>\n",
       "      <td>Bombay</td>\n",
       "      <td>India</td>\n",
       "      <td>7</td>\n",
       "      <td>0.000</td>\n",
       "      <td>0.000</td>\n",
       "      <td>5</td>\n",
       "      <td>0.000</td>\n",
       "      <td>0.000</td>\n",
       "      <td>12</td>\n",
       "      <td>0.000</td>\n",
       "      <td>0.000</td>\n",
       "      <td>1985</td>\n",
       "      <td>1</td>\n",
       "    </tr>\n",
       "    <tr>\n",
       "      <th>3</th>\n",
       "      <td>Jan-85</td>\n",
       "      <td>Adelaide</td>\n",
       "      <td>Frankfurt</td>\n",
       "      <td>Germany</td>\n",
       "      <td>115</td>\n",
       "      <td>0.009</td>\n",
       "      <td>0.000</td>\n",
       "      <td>171</td>\n",
       "      <td>0.000</td>\n",
       "      <td>0.248</td>\n",
       "      <td>286</td>\n",
       "      <td>0.009</td>\n",
       "      <td>0.248</td>\n",
       "      <td>1985</td>\n",
       "      <td>1</td>\n",
       "    </tr>\n",
       "    <tr>\n",
       "      <th>4</th>\n",
       "      <td>Jan-85</td>\n",
       "      <td>Adelaide</td>\n",
       "      <td>London</td>\n",
       "      <td>UK</td>\n",
       "      <td>1567</td>\n",
       "      <td>2.800</td>\n",
       "      <td>0.000</td>\n",
       "      <td>1472</td>\n",
       "      <td>10.618</td>\n",
       "      <td>2.487</td>\n",
       "      <td>3039</td>\n",
       "      <td>13.418</td>\n",
       "      <td>2.487</td>\n",
       "      <td>1985</td>\n",
       "      <td>1</td>\n",
       "    </tr>\n",
       "  </tbody>\n",
       "</table>\n",
       "</div>"
      ],
      "text/plain": [
       "    Month AustralianPort ForeignPort      Country  Passengers_In  \\\n",
       "0  Jan-85       Adelaide    Auckland  New Zealand           1513   \n",
       "1  Jan-85       Adelaide     Bahrain      Bahrain             12   \n",
       "2  Jan-85       Adelaide      Bombay        India              7   \n",
       "3  Jan-85       Adelaide   Frankfurt      Germany            115   \n",
       "4  Jan-85       Adelaide      London           UK           1567   \n",
       "\n",
       "   Freight_In_(tonnes)  Mail_In_(tonnes)  Passengers_Out  \\\n",
       "0               42.167             0.311             985   \n",
       "1                0.000             0.000               5   \n",
       "2                0.000             0.000               5   \n",
       "3                0.009             0.000             171   \n",
       "4                2.800             0.000            1472   \n",
       "\n",
       "   Freight_Out_(tonnes)  Mail_Out_(tonnes)  Passengers_Total  \\\n",
       "0                18.704              0.924              2498   \n",
       "1                 0.033              0.000                17   \n",
       "2                 0.000              0.000                12   \n",
       "3                 0.000              0.248               286   \n",
       "4                10.618              2.487              3039   \n",
       "\n",
       "   Freight_Total_(tonnes)  Mail_Total_(tonnes)  Year  Month_num  \n",
       "0                  60.871                1.235  1985          1  \n",
       "1                   0.033                0.000  1985          1  \n",
       "2                   0.000                0.000  1985          1  \n",
       "3                   0.009                0.248  1985          1  \n",
       "4                  13.418                2.487  1985          1  "
      ]
     },
     "execution_count": 7,
     "metadata": {},
     "output_type": "execute_result"
    }
   ],
   "source": [
    "main_df = pd.read_csv(data_path)\n",
    "main_df.head()"
   ]
  },
  {
   "cell_type": "code",
   "execution_count": 8,
   "id": "efda2f6f-158d-444c-a51c-e6cf313cfffc",
   "metadata": {},
   "outputs": [
    {
     "data": {
      "text/plain": [
       "(9999, 15)"
      ]
     },
     "execution_count": 8,
     "metadata": {},
     "output_type": "execute_result"
    }
   ],
   "source": [
    "main_df.shape"
   ]
  },
  {
   "cell_type": "code",
   "execution_count": null,
   "id": "d077eb52-5b40-4e7f-b6ee-360d4fad84e6",
   "metadata": {},
   "outputs": [],
   "source": []
  }
 ],
 "metadata": {
  "kernelspec": {
   "display_name": "Python 3 (ipykernel)",
   "language": "python",
   "name": "python3"
  },
  "language_info": {
   "codemirror_mode": {
    "name": "ipython",
    "version": 3
   },
   "file_extension": ".py",
   "mimetype": "text/x-python",
   "name": "python",
   "nbconvert_exporter": "python",
   "pygments_lexer": "ipython3",
   "version": "3.12.7"
  }
 },
 "nbformat": 4,
 "nbformat_minor": 5
}
