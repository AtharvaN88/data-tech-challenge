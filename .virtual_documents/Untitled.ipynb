import pandas as pd
import matplotlib.pyplot as plt





data_path = r"C:\Users\nilap_d3dyn7h\OneDrive\Documents\airline.csv"


main_df = pd.read_csv(data_path)
main_df.head()


main_df.shape



